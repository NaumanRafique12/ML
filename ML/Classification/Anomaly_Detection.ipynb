{
  "nbformat": 4,
  "nbformat_minor": 5,
  "metadata": {
    "kernelspec": {
      "display_name": "Python 3",
      "language": "python",
      "name": "python3"
    },
    "language_info": {
      "codemirror_mode": {
        "name": "ipython",
        "version": 3
      },
      "file_extension": ".py",
      "mimetype": "text/x-python",
      "name": "python",
      "nbconvert_exporter": "python",
      "pygments_lexer": "ipython3",
      "version": "3.8.8"
    },
    "colab": {
      "provenance": []
    }
  },
  "cells": [
    {
      "cell_type": "code",
      "metadata": {
        "id": "90640de6"
      },
      "source": [
        "import pandas as pd\n",
        "import numpy as np\n",
        "import matplotlib.pyplot as plt\n",
        "from sklearn import preprocessing\n",
        "from sklearn.decomposition import PCA\n",
        "from sklearn.preprocessing import StandardScaler\n",
        "from sklearn.ensemble import IsolationForest"
      ],
      "id": "90640de6",
      "execution_count": null,
      "outputs": []
    },
    {
      "cell_type": "code",
      "metadata": {
        "id": "f37ecae9"
      },
      "source": [
        "import matplotlib.pyplot as plt\n",
        "from mpl_toolkits.mplot3d import Axes3D "
      ],
      "id": "f37ecae9",
      "execution_count": null,
      "outputs": []
    },
    {
      "cell_type": "code",
      "metadata": {
        "id": "3841d41a"
      },
      "source": [],
      "id": "3841d41a",
      "execution_count": null,
      "outputs": []
    },
    {
      "cell_type": "markdown",
      "metadata": {
        "id": "d80fb31b"
      },
      "source": [
        "# Load Dataset "
      ],
      "id": "d80fb31b"
    },
    {
      "cell_type": "code",
      "metadata": {
        "id": "16436af8"
      },
      "source": [
        "data=pd.read_csv('123.csv',encoding = \"ISO-8859-1\", engine='python') #Training dataset"
      ],
      "id": "16436af8",
      "execution_count": null,
      "outputs": []
    },
    {
      "cell_type": "code",
      "metadata": {
        "id": "31567f08"
      },
      "source": [
        "data_test=pd.read_csv('hi.csv',encoding = \"ISO-8859-1\", engine='python') # Testing dataset"
      ],
      "id": "31567f08",
      "execution_count": null,
      "outputs": []
    },
    {
      "cell_type": "markdown",
      "metadata": {
        "id": "b2afd760"
      },
      "source": [
        "# Training Dataset Preprocession and Results"
      ],
      "id": "b2afd760"
    },
    {
      "cell_type": "code",
      "metadata": {
        "scrolled": false,
        "id": "91010411",
        "outputId": "aaa1097b-47ab-455c-a7e7-8925035c6ed0"
      },
      "source": [
        "data.shape"
      ],
      "id": "91010411",
      "execution_count": null,
      "outputs": [
        {
          "data": {
            "text/plain": [
              "(132672, 8)"
            ]
          },
          "execution_count": 5,
          "metadata": {},
          "output_type": "execute_result"
        }
      ]
    },
    {
      "cell_type": "code",
      "metadata": {
        "id": "506462a3",
        "outputId": "66e88f65-029b-40cf-eee5-7c01b50d3a0d"
      },
      "source": [
        "data_test.shape"
      ],
      "id": "506462a3",
      "execution_count": null,
      "outputs": [
        {
          "data": {
            "text/plain": [
              "(17420, 7)"
            ]
          },
          "execution_count": 6,
          "metadata": {},
          "output_type": "execute_result"
        }
      ]
    },
    {
      "cell_type": "code",
      "metadata": {
        "id": "9c4334a2"
      },
      "source": [],
      "id": "9c4334a2",
      "execution_count": null,
      "outputs": []
    },
    {
      "cell_type": "markdown",
      "metadata": {
        "id": "ac3137d8"
      },
      "source": [
        "# Exploratory analysis of data "
      ],
      "id": "ac3137d8"
    },
    {
      "cell_type": "code",
      "metadata": {
        "id": "b4091155",
        "outputId": "7aaa9f44-6552-4b08-e19f-0dd25536c27f"
      },
      "source": [
        "# Show the contents of dataset\n",
        "data.head(10)"
      ],
      "id": "b4091155",
      "execution_count": null,
      "outputs": [
        {
          "data": {
            "text/html": [
              "<div>\n",
              "<style scoped>\n",
              "    .dataframe tbody tr th:only-of-type {\n",
              "        vertical-align: middle;\n",
              "    }\n",
              "\n",
              "    .dataframe tbody tr th {\n",
              "        vertical-align: top;\n",
              "    }\n",
              "\n",
              "    .dataframe thead th {\n",
              "        text-align: right;\n",
              "    }\n",
              "</style>\n",
              "<table border=\"1\" class=\"dataframe\">\n",
              "  <thead>\n",
              "    <tr style=\"text-align: right;\">\n",
              "      <th></th>\n",
              "      <th>No.</th>\n",
              "      <th>Time</th>\n",
              "      <th>Source</th>\n",
              "      <th>Destination</th>\n",
              "      <th>Protocol</th>\n",
              "      <th>Length</th>\n",
              "      <th>info</th>\n",
              "      <th>Stcport</th>\n",
              "    </tr>\n",
              "  </thead>\n",
              "  <tbody>\n",
              "    <tr>\n",
              "      <th>0</th>\n",
              "      <td>1</td>\n",
              "      <td>0.000000</td>\n",
              "      <td>FanvilTe_01:b6:6b</td>\n",
              "      <td>Broadcast</td>\n",
              "      <td>ARP</td>\n",
              "      <td>60</td>\n",
              "      <td>Who has 10.42.33.1? Tell 10.42.33.67</td>\n",
              "      <td>NaN</td>\n",
              "    </tr>\n",
              "    <tr>\n",
              "      <th>1</th>\n",
              "      <td>2</td>\n",
              "      <td>0.033462</td>\n",
              "      <td>10.42.33.3</td>\n",
              "      <td>224.0.0.102</td>\n",
              "      <td>HSRPv2</td>\n",
              "      <td>94</td>\n",
              "      <td>Hello (state Standby)</td>\n",
              "      <td>1985.0</td>\n",
              "    </tr>\n",
              "    <tr>\n",
              "      <th>2</th>\n",
              "      <td>3</td>\n",
              "      <td>0.046374</td>\n",
              "      <td>10.42.33.191</td>\n",
              "      <td>110.93.229.227</td>\n",
              "      <td>HTTP</td>\n",
              "      <td>488</td>\n",
              "      <td>GET /filestreamingservice/files/3ecd4cae-bf54-...</td>\n",
              "      <td>62129.0</td>\n",
              "    </tr>\n",
              "    <tr>\n",
              "      <th>3</th>\n",
              "      <td>4</td>\n",
              "      <td>0.071464</td>\n",
              "      <td>110.93.229.227</td>\n",
              "      <td>10.42.33.191</td>\n",
              "      <td>TCP</td>\n",
              "      <td>1514</td>\n",
              "      <td>80  &gt;  62129 [ACK] Seq=1 Ack=435 Win=1422 Len=...</td>\n",
              "      <td>80.0</td>\n",
              "    </tr>\n",
              "    <tr>\n",
              "      <th>4</th>\n",
              "      <td>5</td>\n",
              "      <td>0.071464</td>\n",
              "      <td>110.93.229.227</td>\n",
              "      <td>10.42.33.191</td>\n",
              "      <td>TCP</td>\n",
              "      <td>1514</td>\n",
              "      <td>80  &gt;  62129 [ACK] Seq=1461 Ack=435 Win=1422 L...</td>\n",
              "      <td>80.0</td>\n",
              "    </tr>\n",
              "    <tr>\n",
              "      <th>5</th>\n",
              "      <td>6</td>\n",
              "      <td>0.071501</td>\n",
              "      <td>10.42.33.191</td>\n",
              "      <td>110.93.229.227</td>\n",
              "      <td>TCP</td>\n",
              "      <td>54</td>\n",
              "      <td>62129  &gt;  80 [ACK] Seq=435 Ack=2921 Win=513 Len=0</td>\n",
              "      <td>62129.0</td>\n",
              "    </tr>\n",
              "    <tr>\n",
              "      <th>6</th>\n",
              "      <td>7</td>\n",
              "      <td>0.072033</td>\n",
              "      <td>110.93.229.227</td>\n",
              "      <td>10.42.33.191</td>\n",
              "      <td>TCP</td>\n",
              "      <td>1514</td>\n",
              "      <td>80  &gt;  62129 [ACK] Seq=2921 Ack=435 Win=1422 L...</td>\n",
              "      <td>80.0</td>\n",
              "    </tr>\n",
              "    <tr>\n",
              "      <th>7</th>\n",
              "      <td>8</td>\n",
              "      <td>0.072033</td>\n",
              "      <td>110.93.229.227</td>\n",
              "      <td>10.42.33.191</td>\n",
              "      <td>TCP</td>\n",
              "      <td>1514</td>\n",
              "      <td>80  &gt;  62129 [ACK] Seq=4381 Ack=435 Win=1422 L...</td>\n",
              "      <td>80.0</td>\n",
              "    </tr>\n",
              "    <tr>\n",
              "      <th>8</th>\n",
              "      <td>9</td>\n",
              "      <td>0.072074</td>\n",
              "      <td>10.42.33.191</td>\n",
              "      <td>110.93.229.227</td>\n",
              "      <td>TCP</td>\n",
              "      <td>54</td>\n",
              "      <td>62129  &gt;  80 [ACK] Seq=435 Ack=5841 Win=513 Len=0</td>\n",
              "      <td>62129.0</td>\n",
              "    </tr>\n",
              "    <tr>\n",
              "      <th>9</th>\n",
              "      <td>10</td>\n",
              "      <td>0.073219</td>\n",
              "      <td>110.93.229.227</td>\n",
              "      <td>10.42.33.191</td>\n",
              "      <td>TCP</td>\n",
              "      <td>1514</td>\n",
              "      <td>80  &gt;  62129 [ACK] Seq=5841 Ack=435 Win=1422 L...</td>\n",
              "      <td>80.0</td>\n",
              "    </tr>\n",
              "  </tbody>\n",
              "</table>\n",
              "</div>"
            ],
            "text/plain": [
              "   No.      Time             Source     Destination Protocol  Length  \\\n",
              "0    1  0.000000  FanvilTe_01:b6:6b       Broadcast      ARP      60   \n",
              "1    2  0.033462         10.42.33.3     224.0.0.102   HSRPv2      94   \n",
              "2    3  0.046374       10.42.33.191  110.93.229.227     HTTP     488   \n",
              "3    4  0.071464     110.93.229.227    10.42.33.191      TCP    1514   \n",
              "4    5  0.071464     110.93.229.227    10.42.33.191      TCP    1514   \n",
              "5    6  0.071501       10.42.33.191  110.93.229.227      TCP      54   \n",
              "6    7  0.072033     110.93.229.227    10.42.33.191      TCP    1514   \n",
              "7    8  0.072033     110.93.229.227    10.42.33.191      TCP    1514   \n",
              "8    9  0.072074       10.42.33.191  110.93.229.227      TCP      54   \n",
              "9   10  0.073219     110.93.229.227    10.42.33.191      TCP    1514   \n",
              "\n",
              "                                                info  Stcport  \n",
              "0               Who has 10.42.33.1? Tell 10.42.33.67      NaN  \n",
              "1                              Hello (state Standby)   1985.0  \n",
              "2  GET /filestreamingservice/files/3ecd4cae-bf54-...  62129.0  \n",
              "3  80  >  62129 [ACK] Seq=1 Ack=435 Win=1422 Len=...     80.0  \n",
              "4  80  >  62129 [ACK] Seq=1461 Ack=435 Win=1422 L...     80.0  \n",
              "5  62129  >  80 [ACK] Seq=435 Ack=2921 Win=513 Len=0  62129.0  \n",
              "6  80  >  62129 [ACK] Seq=2921 Ack=435 Win=1422 L...     80.0  \n",
              "7  80  >  62129 [ACK] Seq=4381 Ack=435 Win=1422 L...     80.0  \n",
              "8  62129  >  80 [ACK] Seq=435 Ack=5841 Win=513 Len=0  62129.0  \n",
              "9  80  >  62129 [ACK] Seq=5841 Ack=435 Win=1422 L...     80.0  "
            ]
          },
          "execution_count": 7,
          "metadata": {},
          "output_type": "execute_result"
        }
      ]
    },
    {
      "cell_type": "code",
      "metadata": {
        "scrolled": true,
        "id": "b9340e77",
        "outputId": "3be6d564-6e7a-47a4-9a92-aab337963902"
      },
      "source": [
        "data.info()"
      ],
      "id": "b9340e77",
      "execution_count": null,
      "outputs": [
        {
          "name": "stdout",
          "output_type": "stream",
          "text": [
            "<class 'pandas.core.frame.DataFrame'>\n",
            "RangeIndex: 132672 entries, 0 to 132671\n",
            "Data columns (total 8 columns):\n",
            " #   Column       Non-Null Count   Dtype  \n",
            "---  ------       --------------   -----  \n",
            " 0   No.          132672 non-null  int64  \n",
            " 1   Time         132672 non-null  float64\n",
            " 2   Source       132672 non-null  object \n",
            " 3   Destination  132672 non-null  object \n",
            " 4   Protocol     132672 non-null  object \n",
            " 5   Length       132672 non-null  int64  \n",
            " 6   info         131336 non-null  object \n",
            " 7   Stcport      121840 non-null  float64\n",
            "dtypes: float64(2), int64(2), object(4)\n",
            "memory usage: 8.1+ MB\n"
          ]
        }
      ]
    },
    {
      "cell_type": "code",
      "metadata": {
        "id": "20d27fa2",
        "outputId": "5ac430fd-938d-44ed-98f8-468945933a73"
      },
      "source": [
        "data.head(20)"
      ],
      "id": "20d27fa2",
      "execution_count": null,
      "outputs": [
        {
          "data": {
            "text/html": [
              "<div>\n",
              "<style scoped>\n",
              "    .dataframe tbody tr th:only-of-type {\n",
              "        vertical-align: middle;\n",
              "    }\n",
              "\n",
              "    .dataframe tbody tr th {\n",
              "        vertical-align: top;\n",
              "    }\n",
              "\n",
              "    .dataframe thead th {\n",
              "        text-align: right;\n",
              "    }\n",
              "</style>\n",
              "<table border=\"1\" class=\"dataframe\">\n",
              "  <thead>\n",
              "    <tr style=\"text-align: right;\">\n",
              "      <th></th>\n",
              "      <th>No.</th>\n",
              "      <th>Time</th>\n",
              "      <th>Source</th>\n",
              "      <th>Destination</th>\n",
              "      <th>Protocol</th>\n",
              "      <th>Length</th>\n",
              "      <th>info</th>\n",
              "      <th>Stcport</th>\n",
              "    </tr>\n",
              "  </thead>\n",
              "  <tbody>\n",
              "    <tr>\n",
              "      <th>0</th>\n",
              "      <td>1</td>\n",
              "      <td>0.000000</td>\n",
              "      <td>FanvilTe_01:b6:6b</td>\n",
              "      <td>Broadcast</td>\n",
              "      <td>ARP</td>\n",
              "      <td>60</td>\n",
              "      <td>Who has 10.42.33.1? Tell 10.42.33.67</td>\n",
              "      <td>NaN</td>\n",
              "    </tr>\n",
              "    <tr>\n",
              "      <th>1</th>\n",
              "      <td>2</td>\n",
              "      <td>0.033462</td>\n",
              "      <td>10.42.33.3</td>\n",
              "      <td>224.0.0.102</td>\n",
              "      <td>HSRPv2</td>\n",
              "      <td>94</td>\n",
              "      <td>Hello (state Standby)</td>\n",
              "      <td>1985.0</td>\n",
              "    </tr>\n",
              "    <tr>\n",
              "      <th>2</th>\n",
              "      <td>3</td>\n",
              "      <td>0.046374</td>\n",
              "      <td>10.42.33.191</td>\n",
              "      <td>110.93.229.227</td>\n",
              "      <td>HTTP</td>\n",
              "      <td>488</td>\n",
              "      <td>GET /filestreamingservice/files/3ecd4cae-bf54-...</td>\n",
              "      <td>62129.0</td>\n",
              "    </tr>\n",
              "    <tr>\n",
              "      <th>3</th>\n",
              "      <td>4</td>\n",
              "      <td>0.071464</td>\n",
              "      <td>110.93.229.227</td>\n",
              "      <td>10.42.33.191</td>\n",
              "      <td>TCP</td>\n",
              "      <td>1514</td>\n",
              "      <td>80  &gt;  62129 [ACK] Seq=1 Ack=435 Win=1422 Len=...</td>\n",
              "      <td>80.0</td>\n",
              "    </tr>\n",
              "    <tr>\n",
              "      <th>4</th>\n",
              "      <td>5</td>\n",
              "      <td>0.071464</td>\n",
              "      <td>110.93.229.227</td>\n",
              "      <td>10.42.33.191</td>\n",
              "      <td>TCP</td>\n",
              "      <td>1514</td>\n",
              "      <td>80  &gt;  62129 [ACK] Seq=1461 Ack=435 Win=1422 L...</td>\n",
              "      <td>80.0</td>\n",
              "    </tr>\n",
              "    <tr>\n",
              "      <th>5</th>\n",
              "      <td>6</td>\n",
              "      <td>0.071501</td>\n",
              "      <td>10.42.33.191</td>\n",
              "      <td>110.93.229.227</td>\n",
              "      <td>TCP</td>\n",
              "      <td>54</td>\n",
              "      <td>62129  &gt;  80 [ACK] Seq=435 Ack=2921 Win=513 Len=0</td>\n",
              "      <td>62129.0</td>\n",
              "    </tr>\n",
              "    <tr>\n",
              "      <th>6</th>\n",
              "      <td>7</td>\n",
              "      <td>0.072033</td>\n",
              "      <td>110.93.229.227</td>\n",
              "      <td>10.42.33.191</td>\n",
              "      <td>TCP</td>\n",
              "      <td>1514</td>\n",
              "      <td>80  &gt;  62129 [ACK] Seq=2921 Ack=435 Win=1422 L...</td>\n",
              "      <td>80.0</td>\n",
              "    </tr>\n",
              "    <tr>\n",
              "      <th>7</th>\n",
              "      <td>8</td>\n",
              "      <td>0.072033</td>\n",
              "      <td>110.93.229.227</td>\n",
              "      <td>10.42.33.191</td>\n",
              "      <td>TCP</td>\n",
              "      <td>1514</td>\n",
              "      <td>80  &gt;  62129 [ACK] Seq=4381 Ack=435 Win=1422 L...</td>\n",
              "      <td>80.0</td>\n",
              "    </tr>\n",
              "    <tr>\n",
              "      <th>8</th>\n",
              "      <td>9</td>\n",
              "      <td>0.072074</td>\n",
              "      <td>10.42.33.191</td>\n",
              "      <td>110.93.229.227</td>\n",
              "      <td>TCP</td>\n",
              "      <td>54</td>\n",
              "      <td>62129  &gt;  80 [ACK] Seq=435 Ack=5841 Win=513 Len=0</td>\n",
              "      <td>62129.0</td>\n",
              "    </tr>\n",
              "    <tr>\n",
              "      <th>9</th>\n",
              "      <td>10</td>\n",
              "      <td>0.073219</td>\n",
              "      <td>110.93.229.227</td>\n",
              "      <td>10.42.33.191</td>\n",
              "      <td>TCP</td>\n",
              "      <td>1514</td>\n",
              "      <td>80  &gt;  62129 [ACK] Seq=5841 Ack=435 Win=1422 L...</td>\n",
              "      <td>80.0</td>\n",
              "    </tr>\n",
              "    <tr>\n",
              "      <th>10</th>\n",
              "      <td>11</td>\n",
              "      <td>0.073219</td>\n",
              "      <td>110.93.229.227</td>\n",
              "      <td>10.42.33.191</td>\n",
              "      <td>TCP</td>\n",
              "      <td>1514</td>\n",
              "      <td>80  &gt;  62129 [ACK] Seq=7301 Ack=435 Win=1422 L...</td>\n",
              "      <td>80.0</td>\n",
              "    </tr>\n",
              "    <tr>\n",
              "      <th>11</th>\n",
              "      <td>12</td>\n",
              "      <td>0.073254</td>\n",
              "      <td>10.42.33.191</td>\n",
              "      <td>110.93.229.227</td>\n",
              "      <td>TCP</td>\n",
              "      <td>54</td>\n",
              "      <td>62129  &gt;  80 [ACK] Seq=435 Ack=8761 Win=513 Len=0</td>\n",
              "      <td>62129.0</td>\n",
              "    </tr>\n",
              "    <tr>\n",
              "      <th>12</th>\n",
              "      <td>13</td>\n",
              "      <td>0.074126</td>\n",
              "      <td>110.93.229.227</td>\n",
              "      <td>10.42.33.191</td>\n",
              "      <td>TCP</td>\n",
              "      <td>1514</td>\n",
              "      <td>80  &gt;  62129 [ACK] Seq=8761 Ack=435 Win=1422 L...</td>\n",
              "      <td>80.0</td>\n",
              "    </tr>\n",
              "    <tr>\n",
              "      <th>13</th>\n",
              "      <td>14</td>\n",
              "      <td>0.074126</td>\n",
              "      <td>110.93.229.227</td>\n",
              "      <td>10.42.33.191</td>\n",
              "      <td>TCP</td>\n",
              "      <td>1514</td>\n",
              "      <td>80  &gt;  62129 [ACK] Seq=10221 Ack=435 Win=1422 ...</td>\n",
              "      <td>80.0</td>\n",
              "    </tr>\n",
              "    <tr>\n",
              "      <th>14</th>\n",
              "      <td>15</td>\n",
              "      <td>0.074159</td>\n",
              "      <td>10.42.33.191</td>\n",
              "      <td>110.93.229.227</td>\n",
              "      <td>TCP</td>\n",
              "      <td>54</td>\n",
              "      <td>62129  &gt;  80 [ACK] Seq=435 Ack=11681 Win=513 L...</td>\n",
              "      <td>62129.0</td>\n",
              "    </tr>\n",
              "    <tr>\n",
              "      <th>15</th>\n",
              "      <td>16</td>\n",
              "      <td>0.075074</td>\n",
              "      <td>110.93.229.227</td>\n",
              "      <td>10.42.33.191</td>\n",
              "      <td>TCP</td>\n",
              "      <td>1514</td>\n",
              "      <td>80  &gt;  62129 [ACK] Seq=11681 Ack=435 Win=1422 ...</td>\n",
              "      <td>80.0</td>\n",
              "    </tr>\n",
              "    <tr>\n",
              "      <th>16</th>\n",
              "      <td>17</td>\n",
              "      <td>0.075074</td>\n",
              "      <td>110.93.229.227</td>\n",
              "      <td>10.42.33.191</td>\n",
              "      <td>TCP</td>\n",
              "      <td>1514</td>\n",
              "      <td>80  &gt;  62129 [ACK] Seq=13141 Ack=435 Win=1422 ...</td>\n",
              "      <td>80.0</td>\n",
              "    </tr>\n",
              "    <tr>\n",
              "      <th>17</th>\n",
              "      <td>18</td>\n",
              "      <td>0.075107</td>\n",
              "      <td>10.42.33.191</td>\n",
              "      <td>110.93.229.227</td>\n",
              "      <td>TCP</td>\n",
              "      <td>54</td>\n",
              "      <td>62129  &gt;  80 [ACK] Seq=435 Ack=14601 Win=513 L...</td>\n",
              "      <td>62129.0</td>\n",
              "    </tr>\n",
              "    <tr>\n",
              "      <th>18</th>\n",
              "      <td>19</td>\n",
              "      <td>0.075821</td>\n",
              "      <td>110.93.229.227</td>\n",
              "      <td>10.42.33.191</td>\n",
              "      <td>TCP</td>\n",
              "      <td>1514</td>\n",
              "      <td>80  &gt;  62129 [ACK] Seq=14601 Ack=435 Win=1422 ...</td>\n",
              "      <td>80.0</td>\n",
              "    </tr>\n",
              "    <tr>\n",
              "      <th>19</th>\n",
              "      <td>20</td>\n",
              "      <td>0.075821</td>\n",
              "      <td>110.93.229.227</td>\n",
              "      <td>10.42.33.191</td>\n",
              "      <td>TCP</td>\n",
              "      <td>1514</td>\n",
              "      <td>80  &gt;  62129 [ACK] Seq=16061 Ack=435 Win=1422 ...</td>\n",
              "      <td>80.0</td>\n",
              "    </tr>\n",
              "  </tbody>\n",
              "</table>\n",
              "</div>"
            ],
            "text/plain": [
              "    No.      Time             Source     Destination Protocol  Length  \\\n",
              "0     1  0.000000  FanvilTe_01:b6:6b       Broadcast      ARP      60   \n",
              "1     2  0.033462         10.42.33.3     224.0.0.102   HSRPv2      94   \n",
              "2     3  0.046374       10.42.33.191  110.93.229.227     HTTP     488   \n",
              "3     4  0.071464     110.93.229.227    10.42.33.191      TCP    1514   \n",
              "4     5  0.071464     110.93.229.227    10.42.33.191      TCP    1514   \n",
              "5     6  0.071501       10.42.33.191  110.93.229.227      TCP      54   \n",
              "6     7  0.072033     110.93.229.227    10.42.33.191      TCP    1514   \n",
              "7     8  0.072033     110.93.229.227    10.42.33.191      TCP    1514   \n",
              "8     9  0.072074       10.42.33.191  110.93.229.227      TCP      54   \n",
              "9    10  0.073219     110.93.229.227    10.42.33.191      TCP    1514   \n",
              "10   11  0.073219     110.93.229.227    10.42.33.191      TCP    1514   \n",
              "11   12  0.073254       10.42.33.191  110.93.229.227      TCP      54   \n",
              "12   13  0.074126     110.93.229.227    10.42.33.191      TCP    1514   \n",
              "13   14  0.074126     110.93.229.227    10.42.33.191      TCP    1514   \n",
              "14   15  0.074159       10.42.33.191  110.93.229.227      TCP      54   \n",
              "15   16  0.075074     110.93.229.227    10.42.33.191      TCP    1514   \n",
              "16   17  0.075074     110.93.229.227    10.42.33.191      TCP    1514   \n",
              "17   18  0.075107       10.42.33.191  110.93.229.227      TCP      54   \n",
              "18   19  0.075821     110.93.229.227    10.42.33.191      TCP    1514   \n",
              "19   20  0.075821     110.93.229.227    10.42.33.191      TCP    1514   \n",
              "\n",
              "                                                 info  Stcport  \n",
              "0                Who has 10.42.33.1? Tell 10.42.33.67      NaN  \n",
              "1                               Hello (state Standby)   1985.0  \n",
              "2   GET /filestreamingservice/files/3ecd4cae-bf54-...  62129.0  \n",
              "3   80  >  62129 [ACK] Seq=1 Ack=435 Win=1422 Len=...     80.0  \n",
              "4   80  >  62129 [ACK] Seq=1461 Ack=435 Win=1422 L...     80.0  \n",
              "5   62129  >  80 [ACK] Seq=435 Ack=2921 Win=513 Len=0  62129.0  \n",
              "6   80  >  62129 [ACK] Seq=2921 Ack=435 Win=1422 L...     80.0  \n",
              "7   80  >  62129 [ACK] Seq=4381 Ack=435 Win=1422 L...     80.0  \n",
              "8   62129  >  80 [ACK] Seq=435 Ack=5841 Win=513 Len=0  62129.0  \n",
              "9   80  >  62129 [ACK] Seq=5841 Ack=435 Win=1422 L...     80.0  \n",
              "10  80  >  62129 [ACK] Seq=7301 Ack=435 Win=1422 L...     80.0  \n",
              "11  62129  >  80 [ACK] Seq=435 Ack=8761 Win=513 Len=0  62129.0  \n",
              "12  80  >  62129 [ACK] Seq=8761 Ack=435 Win=1422 L...     80.0  \n",
              "13  80  >  62129 [ACK] Seq=10221 Ack=435 Win=1422 ...     80.0  \n",
              "14  62129  >  80 [ACK] Seq=435 Ack=11681 Win=513 L...  62129.0  \n",
              "15  80  >  62129 [ACK] Seq=11681 Ack=435 Win=1422 ...     80.0  \n",
              "16  80  >  62129 [ACK] Seq=13141 Ack=435 Win=1422 ...     80.0  \n",
              "17  62129  >  80 [ACK] Seq=435 Ack=14601 Win=513 L...  62129.0  \n",
              "18  80  >  62129 [ACK] Seq=14601 Ack=435 Win=1422 ...     80.0  \n",
              "19  80  >  62129 [ACK] Seq=16061 Ack=435 Win=1422 ...     80.0  "
            ]
          },
          "execution_count": 9,
          "metadata": {},
          "output_type": "execute_result"
        }
      ]
    },
    {
      "cell_type": "code",
      "metadata": {
        "id": "91887c2b",
        "outputId": "09f7d382-0940-4004-e953-b6699556eb6e"
      },
      "source": [
        "# Describe staticitics \n",
        "data.describe()"
      ],
      "id": "91887c2b",
      "execution_count": null,
      "outputs": [
        {
          "data": {
            "text/html": [
              "<div>\n",
              "<style scoped>\n",
              "    .dataframe tbody tr th:only-of-type {\n",
              "        vertical-align: middle;\n",
              "    }\n",
              "\n",
              "    .dataframe tbody tr th {\n",
              "        vertical-align: top;\n",
              "    }\n",
              "\n",
              "    .dataframe thead th {\n",
              "        text-align: right;\n",
              "    }\n",
              "</style>\n",
              "<table border=\"1\" class=\"dataframe\">\n",
              "  <thead>\n",
              "    <tr style=\"text-align: right;\">\n",
              "      <th></th>\n",
              "      <th>No.</th>\n",
              "      <th>Time</th>\n",
              "      <th>Length</th>\n",
              "      <th>Stcport</th>\n",
              "    </tr>\n",
              "  </thead>\n",
              "  <tbody>\n",
              "    <tr>\n",
              "      <th>count</th>\n",
              "      <td>132672.000000</td>\n",
              "      <td>132672.000000</td>\n",
              "      <td>132672.000000</td>\n",
              "      <td>121840.000000</td>\n",
              "    </tr>\n",
              "    <tr>\n",
              "      <th>mean</th>\n",
              "      <td>66336.500000</td>\n",
              "      <td>321.717698</td>\n",
              "      <td>681.410079</td>\n",
              "      <td>22403.972924</td>\n",
              "    </tr>\n",
              "    <tr>\n",
              "      <th>std</th>\n",
              "      <td>38299.251794</td>\n",
              "      <td>434.309764</td>\n",
              "      <td>697.039191</td>\n",
              "      <td>28929.851654</td>\n",
              "    </tr>\n",
              "    <tr>\n",
              "      <th>min</th>\n",
              "      <td>1.000000</td>\n",
              "      <td>0.000000</td>\n",
              "      <td>42.000000</td>\n",
              "      <td>53.000000</td>\n",
              "    </tr>\n",
              "    <tr>\n",
              "      <th>25%</th>\n",
              "      <td>33168.750000</td>\n",
              "      <td>53.413268</td>\n",
              "      <td>60.000000</td>\n",
              "      <td>80.000000</td>\n",
              "    </tr>\n",
              "    <tr>\n",
              "      <th>50%</th>\n",
              "      <td>66336.500000</td>\n",
              "      <td>119.400248</td>\n",
              "      <td>120.000000</td>\n",
              "      <td>1985.000000</td>\n",
              "    </tr>\n",
              "    <tr>\n",
              "      <th>75%</th>\n",
              "      <td>99504.250000</td>\n",
              "      <td>402.616374</td>\n",
              "      <td>1514.000000</td>\n",
              "      <td>62129.000000</td>\n",
              "    </tr>\n",
              "    <tr>\n",
              "      <th>max</th>\n",
              "      <td>132672.000000</td>\n",
              "      <td>1656.732587</td>\n",
              "      <td>13974.000000</td>\n",
              "      <td>65527.000000</td>\n",
              "    </tr>\n",
              "  </tbody>\n",
              "</table>\n",
              "</div>"
            ],
            "text/plain": [
              "                 No.           Time         Length        Stcport\n",
              "count  132672.000000  132672.000000  132672.000000  121840.000000\n",
              "mean    66336.500000     321.717698     681.410079   22403.972924\n",
              "std     38299.251794     434.309764     697.039191   28929.851654\n",
              "min         1.000000       0.000000      42.000000      53.000000\n",
              "25%     33168.750000      53.413268      60.000000      80.000000\n",
              "50%     66336.500000     119.400248     120.000000    1985.000000\n",
              "75%     99504.250000     402.616374    1514.000000   62129.000000\n",
              "max    132672.000000    1656.732587   13974.000000   65527.000000"
            ]
          },
          "execution_count": 10,
          "metadata": {},
          "output_type": "execute_result"
        }
      ]
    },
    {
      "cell_type": "markdown",
      "metadata": {
        "id": "f005c13e"
      },
      "source": [
        "# Data preprocessing"
      ],
      "id": "f005c13e"
    },
    {
      "cell_type": "code",
      "metadata": {
        "id": "0229dd6d",
        "outputId": "3b6301d6-aa79-4a62-b780-71764e8d05f0"
      },
      "source": [
        "# Check for any missing values\n",
        "data.isnull().values.any()"
      ],
      "id": "0229dd6d",
      "execution_count": null,
      "outputs": [
        {
          "data": {
            "text/plain": [
              "True"
            ]
          },
          "execution_count": 11,
          "metadata": {},
          "output_type": "execute_result"
        }
      ]
    },
    {
      "cell_type": "code",
      "metadata": {
        "id": "bb7800d1"
      },
      "source": [
        "# First columns just indicates the serial number of packets which has no significance. \n",
        "# Source IP column is not creating any difference because packets are being from the same source.\n",
        "# Last column which shows Info is not required. So we would drop these columns.\n",
        "data=data.drop(['No.','Source','info','Stcport'],axis=1)"
      ],
      "id": "bb7800d1",
      "execution_count": null,
      "outputs": []
    },
    {
      "cell_type": "code",
      "metadata": {
        "id": "e2a0d38a",
        "outputId": "574c4f53-add3-4a0d-acbc-d7cbd501048a"
      },
      "source": [
        "# Apply label encoding to categorical features\n",
        "le = preprocessing.LabelEncoder()\n",
        "\n",
        "data['Destination'] = le.fit_transform(data['Destination']) \n",
        "data['Protocol'] = le.fit_transform(data['Protocol'])\n",
        "\n",
        "data.head()"
      ],
      "id": "e2a0d38a",
      "execution_count": null,
      "outputs": [
        {
          "data": {
            "text/html": [
              "<div>\n",
              "<style scoped>\n",
              "    .dataframe tbody tr th:only-of-type {\n",
              "        vertical-align: middle;\n",
              "    }\n",
              "\n",
              "    .dataframe tbody tr th {\n",
              "        vertical-align: top;\n",
              "    }\n",
              "\n",
              "    .dataframe thead th {\n",
              "        text-align: right;\n",
              "    }\n",
              "</style>\n",
              "<table border=\"1\" class=\"dataframe\">\n",
              "  <thead>\n",
              "    <tr style=\"text-align: right;\">\n",
              "      <th></th>\n",
              "      <th>Time</th>\n",
              "      <th>Destination</th>\n",
              "      <th>Protocol</th>\n",
              "      <th>Length</th>\n",
              "    </tr>\n",
              "  </thead>\n",
              "  <tbody>\n",
              "    <tr>\n",
              "      <th>0</th>\n",
              "      <td>0.000000</td>\n",
              "      <td>392</td>\n",
              "      <td>2</td>\n",
              "      <td>60</td>\n",
              "    </tr>\n",
              "    <tr>\n",
              "      <th>1</th>\n",
              "      <td>0.033462</td>\n",
              "      <td>230</td>\n",
              "      <td>8</td>\n",
              "      <td>94</td>\n",
              "    </tr>\n",
              "    <tr>\n",
              "      <th>2</th>\n",
              "      <td>0.046374</td>\n",
              "      <td>29</td>\n",
              "      <td>9</td>\n",
              "      <td>488</td>\n",
              "    </tr>\n",
              "    <tr>\n",
              "      <th>3</th>\n",
              "      <td>0.071464</td>\n",
              "      <td>5</td>\n",
              "      <td>29</td>\n",
              "      <td>1514</td>\n",
              "    </tr>\n",
              "    <tr>\n",
              "      <th>4</th>\n",
              "      <td>0.071464</td>\n",
              "      <td>5</td>\n",
              "      <td>29</td>\n",
              "      <td>1514</td>\n",
              "    </tr>\n",
              "  </tbody>\n",
              "</table>\n",
              "</div>"
            ],
            "text/plain": [
              "       Time  Destination  Protocol  Length\n",
              "0  0.000000          392         2      60\n",
              "1  0.033462          230         8      94\n",
              "2  0.046374           29         9     488\n",
              "3  0.071464            5        29    1514\n",
              "4  0.071464            5        29    1514"
            ]
          },
          "execution_count": 13,
          "metadata": {},
          "output_type": "execute_result"
        }
      ]
    },
    {
      "cell_type": "markdown",
      "metadata": {
        "id": "944c7327"
      },
      "source": [
        "# Implement Machine Learning Algorithm "
      ],
      "id": "944c7327"
    },
    {
      "cell_type": "code",
      "metadata": {
        "scrolled": true,
        "id": "abc145f0"
      },
      "source": [
        "# Isolation Forest\n",
        "ifc = IsolationForest(random_state=0)\n",
        "ifc.fit(data)\n",
        "pred = ifc.predict(data)"
      ],
      "id": "abc145f0",
      "execution_count": null,
      "outputs": []
    },
    {
      "cell_type": "code",
      "metadata": {
        "id": "457491d6",
        "outputId": "e0af191f-3ad2-4c56-9f61-a0d84341705d"
      },
      "source": [
        "print(pred)"
      ],
      "id": "457491d6",
      "execution_count": null,
      "outputs": [
        {
          "name": "stdout",
          "output_type": "stream",
          "text": [
            "[-1 -1 -1 ... -1 -1 -1]\n"
          ]
        }
      ]
    },
    {
      "cell_type": "markdown",
      "metadata": {
        "id": "b74c2e3a"
      },
      "source": [
        "# Results"
      ],
      "id": "b74c2e3a"
    },
    {
      "cell_type": "code",
      "metadata": {
        "id": "4e308b98",
        "outputId": "9a033486-ac97-4abd-8816-b7378d19b354"
      },
      "source": [
        "# Show total number of anomalies and normal points\n",
        "outliers=0\n",
        "inliers=0\n",
        "for i in range(0,len(pred)):\n",
        "    if pred[i]==-1:\n",
        "        outliers+=1\n",
        "    else:\n",
        "        inliers+=1\n",
        "print('Number of Anomalies = %d'%outliers)\n",
        "print('Number of Inliers = %d'%inliers)"
      ],
      "id": "4e308b98",
      "execution_count": null,
      "outputs": [
        {
          "name": "stdout",
          "output_type": "stream",
          "text": [
            "Number of Anomalies = 46568\n",
            "Number of Inliers = 86104\n"
          ]
        }
      ]
    },
    {
      "cell_type": "code",
      "metadata": {
        "id": "9dc81cec",
        "outputId": "40b94ca2-e553-4f44-a8dc-dcea6d612b46"
      },
      "source": [
        "# Plot heatmap of correlation between features\n",
        "import seaborn as sns\n",
        "sns.heatmap(data.corr())"
      ],
      "id": "9dc81cec",
      "execution_count": null,
      "outputs": [
        {
          "data": {
            "text/plain": [
              "<AxesSubplot:>"
            ]
          },
          "execution_count": 17,
          "metadata": {},
          "output_type": "execute_result"
        },
        {
          "data": {
            "image/png": "[encoded data removed]",
            "text/plain": [
              "<Figure size 432x288 with 2 Axes>"
            ]
          },
          "metadata": {
            "needs_background": "light"
          },
          "output_type": "display_data"
        }
      ]
    },
    {
      "cell_type": "markdown",
      "metadata": {
        "id": "e9f21f74"
      },
      "source": [
        "Some feature pairs are almost zero correlation like time and destination. So lets apply PCA (Principle Component Analysis) to reduce the dimenionality and plot 3D graph of anomalies."
      ],
      "id": "e9f21f74"
    },
    {
      "cell_type": "code",
      "metadata": {
        "id": "20d3b811"
      },
      "source": [
        "pca = PCA(n_components=3)  # Reduce to 3 dimensions\n",
        "sc = StandardScaler()\n",
        "# Normalize the metrics\n",
        "N = sc.fit_transform(data)\n",
        "reduced = pca.fit_transform(N)"
      ],
      "id": "20d3b811",
      "execution_count": null,
      "outputs": []
    },
    {
      "cell_type": "code",
      "metadata": {
        "scrolled": true,
        "id": "3791004e",
        "outputId": "beaeeb61-100e-479d-ea91-3e64e9c9e07e"
      },
      "source": [
        "from matplotlib import pyplot as plt\n",
        "import numpy as np\n",
        "plt.rcParams[\"figure.figsize\"] = [10.00, 5.0]\n",
        "plt.rcParams[\"figure.autolayout\"] = True\n",
        "fig = plt.figure()\n",
        "ax = fig.add_subplot(111, projection='3d')\n",
        "x = reduced[:, 0]\n",
        "y = reduced[:, 1]\n",
        "z = reduced[:, 2]\n",
        "c = pred\n",
        "img = ax.scatter(x, y, z, c=c, cmap='coolwarm')\n",
        "plt.show()"
      ],
      "id": "3791004e",
      "execution_count": null,
      "outputs": [
        {
          "data": {
            "image/png": "[encoded data removed]",
            "text/plain": [
              "<Figure size 720x360 with 1 Axes>"
            ]
          },
          "metadata": {
            "needs_background": "light"
          },
          "output_type": "display_data"
        }
      ]
    },
    {
      "cell_type": "markdown",
      "metadata": {
        "id": "a263b0f6"
      },
      "source": [
        "# Test Dataset Preprocessing and Results"
      ],
      "id": "a263b0f6"
    },
    {
      "cell_type": "code",
      "metadata": {
        "id": "2321e417",
        "outputId": "b492dea0-5345-48f7-9857-2240a728ad7b"
      },
      "source": [
        "# Show the contents of dataset\n",
        "data_test.head(10)"
      ],
      "id": "2321e417",
      "execution_count": null,
      "outputs": [
        {
          "data": {
            "text/html": [
              "<div>\n",
              "<style scoped>\n",
              "    .dataframe tbody tr th:only-of-type {\n",
              "        vertical-align: middle;\n",
              "    }\n",
              "\n",
              "    .dataframe tbody tr th {\n",
              "        vertical-align: top;\n",
              "    }\n",
              "\n",
              "    .dataframe thead th {\n",
              "        text-align: right;\n",
              "    }\n",
              "</style>\n",
              "<table border=\"1\" class=\"dataframe\">\n",
              "  <thead>\n",
              "    <tr style=\"text-align: right;\">\n",
              "      <th></th>\n",
              "      <th>No.</th>\n",
              "      <th>Time</th>\n",
              "      <th>Source</th>\n",
              "      <th>Destination</th>\n",
              "      <th>Protocol</th>\n",
              "      <th>Length</th>\n",
              "      <th>Info</th>\n",
              "    </tr>\n",
              "  </thead>\n",
              "  <tbody>\n",
              "    <tr>\n",
              "      <th>0</th>\n",
              "      <td>1</td>\n",
              "      <td>0.000000</td>\n",
              "      <td>10.42.33.5</td>\n",
              "      <td>10.42.33.255</td>\n",
              "      <td>BROWSER</td>\n",
              "      <td>243</td>\n",
              "      <td>Host Announcement PROG-126, Workstation, Serve...</td>\n",
              "    </tr>\n",
              "    <tr>\n",
              "      <th>1</th>\n",
              "      <td>2</td>\n",
              "      <td>0.034539</td>\n",
              "      <td>10.42.33.137</td>\n",
              "      <td>239.255.255.250</td>\n",
              "      <td>SSDP</td>\n",
              "      <td>215</td>\n",
              "      <td>M-SEARCH * HTTP/1.1</td>\n",
              "    </tr>\n",
              "    <tr>\n",
              "      <th>2</th>\n",
              "      <td>3</td>\n",
              "      <td>0.052717</td>\n",
              "      <td>10.42.33.3</td>\n",
              "      <td>224.0.0.102</td>\n",
              "      <td>HSRPv2</td>\n",
              "      <td>94</td>\n",
              "      <td>Hello (state Standby)</td>\n",
              "    </tr>\n",
              "    <tr>\n",
              "      <th>3</th>\n",
              "      <td>4</td>\n",
              "      <td>0.054607</td>\n",
              "      <td>10.42.33.2</td>\n",
              "      <td>224.0.0.102</td>\n",
              "      <td>HSRPv2</td>\n",
              "      <td>94</td>\n",
              "      <td>Hello (state Active)</td>\n",
              "    </tr>\n",
              "    <tr>\n",
              "      <th>4</th>\n",
              "      <td>5</td>\n",
              "      <td>0.126421</td>\n",
              "      <td>Apple_bd:a1:65</td>\n",
              "      <td>Broadcast</td>\n",
              "      <td>ARP</td>\n",
              "      <td>60</td>\n",
              "      <td>Who has 10.42.33.1? Tell 10.42.33.166</td>\n",
              "    </tr>\n",
              "    <tr>\n",
              "      <th>5</th>\n",
              "      <td>6</td>\n",
              "      <td>0.322672</td>\n",
              "      <td>Cisco_12:29:78</td>\n",
              "      <td>Broadcast</td>\n",
              "      <td>0x8899</td>\n",
              "      <td>60</td>\n",
              "      <td>Realtek Layer 2 Protocols</td>\n",
              "    </tr>\n",
              "    <tr>\n",
              "      <th>6</th>\n",
              "      <td>7</td>\n",
              "      <td>0.329250</td>\n",
              "      <td>10.42.33.2</td>\n",
              "      <td>224.0.0.102</td>\n",
              "      <td>HSRPv2</td>\n",
              "      <td>94</td>\n",
              "      <td>Hello (state Active)</td>\n",
              "    </tr>\n",
              "    <tr>\n",
              "      <th>7</th>\n",
              "      <td>8</td>\n",
              "      <td>0.331245</td>\n",
              "      <td>10.42.33.3</td>\n",
              "      <td>224.0.0.102</td>\n",
              "      <td>HSRPv2</td>\n",
              "      <td>94</td>\n",
              "      <td>Hello (state Standby)</td>\n",
              "    </tr>\n",
              "    <tr>\n",
              "      <th>8</th>\n",
              "      <td>9</td>\n",
              "      <td>0.353231</td>\n",
              "      <td>LiteON_52:e5:c3</td>\n",
              "      <td>Broadcast</td>\n",
              "      <td>ARP</td>\n",
              "      <td>60</td>\n",
              "      <td>Who has 10.42.33.210? Tell 10.42.33.125</td>\n",
              "    </tr>\n",
              "    <tr>\n",
              "      <th>9</th>\n",
              "      <td>10</td>\n",
              "      <td>0.486133</td>\n",
              "      <td>Dell_22:11:68</td>\n",
              "      <td>HewlettP_db:0a:2f</td>\n",
              "      <td>ARP</td>\n",
              "      <td>42</td>\n",
              "      <td>Who has 10.42.33.200? Tell 10.42.33.191</td>\n",
              "    </tr>\n",
              "  </tbody>\n",
              "</table>\n",
              "</div>"
            ],
            "text/plain": [
              "   No.      Time           Source        Destination Protocol  Length  \\\n",
              "0    1  0.000000       10.42.33.5       10.42.33.255  BROWSER     243   \n",
              "1    2  0.034539     10.42.33.137    239.255.255.250     SSDP     215   \n",
              "2    3  0.052717       10.42.33.3        224.0.0.102   HSRPv2      94   \n",
              "3    4  0.054607       10.42.33.2        224.0.0.102   HSRPv2      94   \n",
              "4    5  0.126421   Apple_bd:a1:65          Broadcast      ARP      60   \n",
              "5    6  0.322672   Cisco_12:29:78          Broadcast   0x8899      60   \n",
              "6    7  0.329250       10.42.33.2        224.0.0.102   HSRPv2      94   \n",
              "7    8  0.331245       10.42.33.3        224.0.0.102   HSRPv2      94   \n",
              "8    9  0.353231  LiteON_52:e5:c3          Broadcast      ARP      60   \n",
              "9   10  0.486133    Dell_22:11:68  HewlettP_db:0a:2f      ARP      42   \n",
              "\n",
              "                                                Info  \n",
              "0  Host Announcement PROG-126, Workstation, Serve...  \n",
              "1                               M-SEARCH * HTTP/1.1   \n",
              "2                              Hello (state Standby)  \n",
              "3                               Hello (state Active)  \n",
              "4              Who has 10.42.33.1? Tell 10.42.33.166  \n",
              "5                          Realtek Layer 2 Protocols  \n",
              "6                               Hello (state Active)  \n",
              "7                              Hello (state Standby)  \n",
              "8            Who has 10.42.33.210? Tell 10.42.33.125  \n",
              "9            Who has 10.42.33.200? Tell 10.42.33.191  "
            ]
          },
          "execution_count": 20,
          "metadata": {},
          "output_type": "execute_result"
        }
      ]
    },
    {
      "cell_type": "code",
      "metadata": {
        "scrolled": true,
        "id": "ZK1I8-6tT-uT",
        "outputId": "d549e7ad-aa1c-4152-a2a7-1d35877a2b6b"
      },
      "source": [
        "data_test.info()"
      ],
      "id": "ZK1I8-6tT-uT",
      "execution_count": null,
      "outputs": [
        {
          "name": "stdout",
          "output_type": "stream",
          "text": [
            "<class 'pandas.core.frame.DataFrame'>\n",
            "RangeIndex: 17420 entries, 0 to 17419\n",
            "Data columns (total 7 columns):\n",
            " #   Column       Non-Null Count  Dtype  \n",
            "---  ------       --------------  -----  \n",
            " 0   No.          17420 non-null  int64  \n",
            " 1   Time         17420 non-null  float64\n",
            " 2   Source       17420 non-null  object \n",
            " 3   Destination  17420 non-null  object \n",
            " 4   Protocol     17420 non-null  object \n",
            " 5   Length       17420 non-null  int64  \n",
            " 6   Info         17339 non-null  object \n",
            "dtypes: float64(1), int64(2), object(4)\n",
            "memory usage: 952.8+ KB\n"
          ]
        }
      ]
    },
    {
      "cell_type": "code",
      "metadata": {
        "id": "tkxDEmdxT-uT",
        "outputId": "19e5c737-b1ce-4a32-dbe9-6dc0761464d4"
      },
      "source": [
        "data_test.head(20)"
      ],
      "id": "tkxDEmdxT-uT",
      "execution_count": null,
      "outputs": [
        {
          "data": {
            "text/html": [
              "<div>\n",
              "<style scoped>\n",
              "    .dataframe tbody tr th:only-of-type {\n",
              "        vertical-align: middle;\n",
              "    }\n",
              "\n",
              "    .dataframe tbody tr th {\n",
              "        vertical-align: top;\n",
              "    }\n",
              "\n",
              "    .dataframe thead th {\n",
              "        text-align: right;\n",
              "    }\n",
              "</style>\n",
              "<table border=\"1\" class=\"dataframe\">\n",
              "  <thead>\n",
              "    <tr style=\"text-align: right;\">\n",
              "      <th></th>\n",
              "      <th>No.</th>\n",
              "      <th>Time</th>\n",
              "      <th>Source</th>\n",
              "      <th>Destination</th>\n",
              "      <th>Protocol</th>\n",
              "      <th>Length</th>\n",
              "      <th>Info</th>\n",
              "    </tr>\n",
              "  </thead>\n",
              "  <tbody>\n",
              "    <tr>\n",
              "      <th>0</th>\n",
              "      <td>1</td>\n",
              "      <td>0.000000</td>\n",
              "      <td>10.42.33.5</td>\n",
              "      <td>10.42.33.255</td>\n",
              "      <td>BROWSER</td>\n",
              "      <td>243</td>\n",
              "      <td>Host Announcement PROG-126, Workstation, Serve...</td>\n",
              "    </tr>\n",
              "    <tr>\n",
              "      <th>1</th>\n",
              "      <td>2</td>\n",
              "      <td>0.034539</td>\n",
              "      <td>10.42.33.137</td>\n",
              "      <td>239.255.255.250</td>\n",
              "      <td>SSDP</td>\n",
              "      <td>215</td>\n",
              "      <td>M-SEARCH * HTTP/1.1</td>\n",
              "    </tr>\n",
              "    <tr>\n",
              "      <th>2</th>\n",
              "      <td>3</td>\n",
              "      <td>0.052717</td>\n",
              "      <td>10.42.33.3</td>\n",
              "      <td>224.0.0.102</td>\n",
              "      <td>HSRPv2</td>\n",
              "      <td>94</td>\n",
              "      <td>Hello (state Standby)</td>\n",
              "    </tr>\n",
              "    <tr>\n",
              "      <th>3</th>\n",
              "      <td>4</td>\n",
              "      <td>0.054607</td>\n",
              "      <td>10.42.33.2</td>\n",
              "      <td>224.0.0.102</td>\n",
              "      <td>HSRPv2</td>\n",
              "      <td>94</td>\n",
              "      <td>Hello (state Active)</td>\n",
              "    </tr>\n",
              "    <tr>\n",
              "      <th>4</th>\n",
              "      <td>5</td>\n",
              "      <td>0.126421</td>\n",
              "      <td>Apple_bd:a1:65</td>\n",
              "      <td>Broadcast</td>\n",
              "      <td>ARP</td>\n",
              "      <td>60</td>\n",
              "      <td>Who has 10.42.33.1? Tell 10.42.33.166</td>\n",
              "    </tr>\n",
              "    <tr>\n",
              "      <th>5</th>\n",
              "      <td>6</td>\n",
              "      <td>0.322672</td>\n",
              "      <td>Cisco_12:29:78</td>\n",
              "      <td>Broadcast</td>\n",
              "      <td>0x8899</td>\n",
              "      <td>60</td>\n",
              "      <td>Realtek Layer 2 Protocols</td>\n",
              "    </tr>\n",
              "    <tr>\n",
              "      <th>6</th>\n",
              "      <td>7</td>\n",
              "      <td>0.329250</td>\n",
              "      <td>10.42.33.2</td>\n",
              "      <td>224.0.0.102</td>\n",
              "      <td>HSRPv2</td>\n",
              "      <td>94</td>\n",
              "      <td>Hello (state Active)</td>\n",
              "    </tr>\n",
              "    <tr>\n",
              "      <th>7</th>\n",
              "      <td>8</td>\n",
              "      <td>0.331245</td>\n",
              "      <td>10.42.33.3</td>\n",
              "      <td>224.0.0.102</td>\n",
              "      <td>HSRPv2</td>\n",
              "      <td>94</td>\n",
              "      <td>Hello (state Standby)</td>\n",
              "    </tr>\n",
              "    <tr>\n",
              "      <th>8</th>\n",
              "      <td>9</td>\n",
              "      <td>0.353231</td>\n",
              "      <td>LiteON_52:e5:c3</td>\n",
              "      <td>Broadcast</td>\n",
              "      <td>ARP</td>\n",
              "      <td>60</td>\n",
              "      <td>Who has 10.42.33.210? Tell 10.42.33.125</td>\n",
              "    </tr>\n",
              "    <tr>\n",
              "      <th>9</th>\n",
              "      <td>10</td>\n",
              "      <td>0.486133</td>\n",
              "      <td>Dell_22:11:68</td>\n",
              "      <td>HewlettP_db:0a:2f</td>\n",
              "      <td>ARP</td>\n",
              "      <td>42</td>\n",
              "      <td>Who has 10.42.33.200? Tell 10.42.33.191</td>\n",
              "    </tr>\n",
              "    <tr>\n",
              "      <th>10</th>\n",
              "      <td>11</td>\n",
              "      <td>0.486425</td>\n",
              "      <td>HewlettP_db:0a:2f</td>\n",
              "      <td>Dell_22:11:68</td>\n",
              "      <td>ARP</td>\n",
              "      <td>60</td>\n",
              "      <td>10.42.33.200 is at 48:ba:4e:db:0a:2f</td>\n",
              "    </tr>\n",
              "    <tr>\n",
              "      <th>11</th>\n",
              "      <td>12</td>\n",
              "      <td>0.491157</td>\n",
              "      <td>0.0.0.0</td>\n",
              "      <td>255.255.255.255</td>\n",
              "      <td>DHCP</td>\n",
              "      <td>590</td>\n",
              "      <td>DHCP Discover - Transaction ID 0xde05e41b</td>\n",
              "    </tr>\n",
              "    <tr>\n",
              "      <th>12</th>\n",
              "      <td>13</td>\n",
              "      <td>0.598330</td>\n",
              "      <td>10.42.33.2</td>\n",
              "      <td>224.0.0.102</td>\n",
              "      <td>HSRPv2</td>\n",
              "      <td>94</td>\n",
              "      <td>Hello (state Active)</td>\n",
              "    </tr>\n",
              "    <tr>\n",
              "      <th>13</th>\n",
              "      <td>14</td>\n",
              "      <td>0.612632</td>\n",
              "      <td>10.42.33.3</td>\n",
              "      <td>224.0.0.102</td>\n",
              "      <td>HSRPv2</td>\n",
              "      <td>94</td>\n",
              "      <td>Hello (state Standby)</td>\n",
              "    </tr>\n",
              "    <tr>\n",
              "      <th>14</th>\n",
              "      <td>15</td>\n",
              "      <td>0.621346</td>\n",
              "      <td>LiteON_50:bf:2d</td>\n",
              "      <td>Broadcast</td>\n",
              "      <td>ARP</td>\n",
              "      <td>60</td>\n",
              "      <td>Who has 10.42.33.136? Tell 10.42.33.138</td>\n",
              "    </tr>\n",
              "    <tr>\n",
              "      <th>15</th>\n",
              "      <td>16</td>\n",
              "      <td>0.703673</td>\n",
              "      <td>10.42.33.3</td>\n",
              "      <td>224.0.0.13</td>\n",
              "      <td>PIMv2</td>\n",
              "      <td>70</td>\n",
              "      <td>Hello</td>\n",
              "    </tr>\n",
              "    <tr>\n",
              "      <th>16</th>\n",
              "      <td>17</td>\n",
              "      <td>0.867109</td>\n",
              "      <td>10.42.33.2</td>\n",
              "      <td>224.0.0.102</td>\n",
              "      <td>HSRPv2</td>\n",
              "      <td>94</td>\n",
              "      <td>Hello (state Active)</td>\n",
              "    </tr>\n",
              "    <tr>\n",
              "      <th>17</th>\n",
              "      <td>18</td>\n",
              "      <td>0.881299</td>\n",
              "      <td>LiteON_51:65:9e</td>\n",
              "      <td>Broadcast</td>\n",
              "      <td>ARP</td>\n",
              "      <td>60</td>\n",
              "      <td>Who has 10.42.33.210? Tell 10.42.33.150</td>\n",
              "    </tr>\n",
              "    <tr>\n",
              "      <th>18</th>\n",
              "      <td>19</td>\n",
              "      <td>0.897867</td>\n",
              "      <td>10.42.33.3</td>\n",
              "      <td>224.0.0.102</td>\n",
              "      <td>HSRPv2</td>\n",
              "      <td>94</td>\n",
              "      <td>Hello (state Standby)</td>\n",
              "    </tr>\n",
              "    <tr>\n",
              "      <th>19</th>\n",
              "      <td>20</td>\n",
              "      <td>0.931460</td>\n",
              "      <td>Cisco_17:16:bc</td>\n",
              "      <td>Broadcast</td>\n",
              "      <td>ARP</td>\n",
              "      <td>60</td>\n",
              "      <td>Who has 10.42.33.210? Tell 10.42.33.3</td>\n",
              "    </tr>\n",
              "  </tbody>\n",
              "</table>\n",
              "</div>"
            ],
            "text/plain": [
              "    No.      Time             Source        Destination Protocol  Length  \\\n",
              "0     1  0.000000         10.42.33.5       10.42.33.255  BROWSER     243   \n",
              "1     2  0.034539       10.42.33.137    239.255.255.250     SSDP     215   \n",
              "2     3  0.052717         10.42.33.3        224.0.0.102   HSRPv2      94   \n",
              "3     4  0.054607         10.42.33.2        224.0.0.102   HSRPv2      94   \n",
              "4     5  0.126421     Apple_bd:a1:65          Broadcast      ARP      60   \n",
              "5     6  0.322672     Cisco_12:29:78          Broadcast   0x8899      60   \n",
              "6     7  0.329250         10.42.33.2        224.0.0.102   HSRPv2      94   \n",
              "7     8  0.331245         10.42.33.3        224.0.0.102   HSRPv2      94   \n",
              "8     9  0.353231    LiteON_52:e5:c3          Broadcast      ARP      60   \n",
              "9    10  0.486133      Dell_22:11:68  HewlettP_db:0a:2f      ARP      42   \n",
              "10   11  0.486425  HewlettP_db:0a:2f      Dell_22:11:68      ARP      60   \n",
              "11   12  0.491157            0.0.0.0    255.255.255.255     DHCP     590   \n",
              "12   13  0.598330         10.42.33.2        224.0.0.102   HSRPv2      94   \n",
              "13   14  0.612632         10.42.33.3        224.0.0.102   HSRPv2      94   \n",
              "14   15  0.621346    LiteON_50:bf:2d          Broadcast      ARP      60   \n",
              "15   16  0.703673         10.42.33.3         224.0.0.13    PIMv2      70   \n",
              "16   17  0.867109         10.42.33.2        224.0.0.102   HSRPv2      94   \n",
              "17   18  0.881299    LiteON_51:65:9e          Broadcast      ARP      60   \n",
              "18   19  0.897867         10.42.33.3        224.0.0.102   HSRPv2      94   \n",
              "19   20  0.931460     Cisco_17:16:bc          Broadcast      ARP      60   \n",
              "\n",
              "                                                 Info  \n",
              "0   Host Announcement PROG-126, Workstation, Serve...  \n",
              "1                                M-SEARCH * HTTP/1.1   \n",
              "2                               Hello (state Standby)  \n",
              "3                                Hello (state Active)  \n",
              "4               Who has 10.42.33.1? Tell 10.42.33.166  \n",
              "5                           Realtek Layer 2 Protocols  \n",
              "6                                Hello (state Active)  \n",
              "7                               Hello (state Standby)  \n",
              "8             Who has 10.42.33.210? Tell 10.42.33.125  \n",
              "9             Who has 10.42.33.200? Tell 10.42.33.191  \n",
              "10               10.42.33.200 is at 48:ba:4e:db:0a:2f  \n",
              "11          DHCP Discover - Transaction ID 0xde05e41b  \n",
              "12                               Hello (state Active)  \n",
              "13                              Hello (state Standby)  \n",
              "14            Who has 10.42.33.136? Tell 10.42.33.138  \n",
              "15                                              Hello  \n",
              "16                               Hello (state Active)  \n",
              "17            Who has 10.42.33.210? Tell 10.42.33.150  \n",
              "18                              Hello (state Standby)  \n",
              "19              Who has 10.42.33.210? Tell 10.42.33.3  "
            ]
          },
          "execution_count": 22,
          "metadata": {},
          "output_type": "execute_result"
        }
      ]
    },
    {
      "cell_type": "code",
      "metadata": {
        "id": "7e0019d1"
      },
      "source": [],
      "id": "7e0019d1",
      "execution_count": null,
      "outputs": []
    },
    {
      "cell_type": "code",
      "metadata": {
        "id": "9wlArvI7T-uT",
        "outputId": "c48ab844-66b3-451f-e42e-775b13e43620"
      },
      "source": [
        "# Describe staticitics \n",
        "data_test.describe()"
      ],
      "id": "9wlArvI7T-uT",
      "execution_count": null,
      "outputs": [
        {
          "data": {
            "text/html": [
              "<div>\n",
              "<style scoped>\n",
              "    .dataframe tbody tr th:only-of-type {\n",
              "        vertical-align: middle;\n",
              "    }\n",
              "\n",
              "    .dataframe tbody tr th {\n",
              "        vertical-align: top;\n",
              "    }\n",
              "\n",
              "    .dataframe thead th {\n",
              "        text-align: right;\n",
              "    }\n",
              "</style>\n",
              "<table border=\"1\" class=\"dataframe\">\n",
              "  <thead>\n",
              "    <tr style=\"text-align: right;\">\n",
              "      <th></th>\n",
              "      <th>No.</th>\n",
              "      <th>Time</th>\n",
              "      <th>Length</th>\n",
              "    </tr>\n",
              "  </thead>\n",
              "  <tbody>\n",
              "    <tr>\n",
              "      <th>count</th>\n",
              "      <td>17420.00000</td>\n",
              "      <td>17420.000000</td>\n",
              "      <td>17420.000000</td>\n",
              "    </tr>\n",
              "    <tr>\n",
              "      <th>mean</th>\n",
              "      <td>8710.50000</td>\n",
              "      <td>53.660606</td>\n",
              "      <td>780.184099</td>\n",
              "    </tr>\n",
              "    <tr>\n",
              "      <th>std</th>\n",
              "      <td>5028.86518</td>\n",
              "      <td>19.943274</td>\n",
              "      <td>636.004351</td>\n",
              "    </tr>\n",
              "    <tr>\n",
              "      <th>min</th>\n",
              "      <td>1.00000</td>\n",
              "      <td>0.000000</td>\n",
              "      <td>42.000000</td>\n",
              "    </tr>\n",
              "    <tr>\n",
              "      <th>25%</th>\n",
              "      <td>4355.75000</td>\n",
              "      <td>41.820195</td>\n",
              "      <td>94.000000</td>\n",
              "    </tr>\n",
              "    <tr>\n",
              "      <th>50%</th>\n",
              "      <td>8710.50000</td>\n",
              "      <td>47.333288</td>\n",
              "      <td>1392.000000</td>\n",
              "    </tr>\n",
              "    <tr>\n",
              "      <th>75%</th>\n",
              "      <td>13065.25000</td>\n",
              "      <td>62.200132</td>\n",
              "      <td>1392.000000</td>\n",
              "    </tr>\n",
              "    <tr>\n",
              "      <th>max</th>\n",
              "      <td>17420.00000</td>\n",
              "      <td>109.605034</td>\n",
              "      <td>1814.000000</td>\n",
              "    </tr>\n",
              "  </tbody>\n",
              "</table>\n",
              "</div>"
            ],
            "text/plain": [
              "               No.          Time        Length\n",
              "count  17420.00000  17420.000000  17420.000000\n",
              "mean    8710.50000     53.660606    780.184099\n",
              "std     5028.86518     19.943274    636.004351\n",
              "min        1.00000      0.000000     42.000000\n",
              "25%     4355.75000     41.820195     94.000000\n",
              "50%     8710.50000     47.333288   1392.000000\n",
              "75%    13065.25000     62.200132   1392.000000\n",
              "max    17420.00000    109.605034   1814.000000"
            ]
          },
          "execution_count": 23,
          "metadata": {},
          "output_type": "execute_result"
        }
      ]
    },
    {
      "cell_type": "markdown",
      "metadata": {
        "id": "Ub5WQWHWT-uU"
      },
      "source": [
        "# Data preprocessing"
      ],
      "id": "Ub5WQWHWT-uU"
    },
    {
      "cell_type": "code",
      "metadata": {
        "id": "Z6o3HRlQT-uU",
        "outputId": "c3d4b16e-bd94-4099-8386-1f9842dcd81a"
      },
      "source": [
        "# Check for any missing values\n",
        "data_test.isnull().values.any()"
      ],
      "id": "Z6o3HRlQT-uU",
      "execution_count": null,
      "outputs": [
        {
          "data": {
            "text/plain": [
              "True"
            ]
          },
          "execution_count": 24,
          "metadata": {},
          "output_type": "execute_result"
        }
      ]
    },
    {
      "cell_type": "code",
      "metadata": {
        "id": "CQkd-PncT-uU"
      },
      "source": [
        "# First columns just indicates the serial number of packets which has no significance. \n",
        "# Source IP column is not creating any difference because packets are being from the same source.\n",
        "# Last column which shows Info is not required. So we would drop these columns.\n",
        "data_test=data_test.drop(['No.','Source','Info'],axis=1)"
      ],
      "id": "CQkd-PncT-uU",
      "execution_count": null,
      "outputs": []
    },
    {
      "cell_type": "code",
      "metadata": {
        "id": "LAJrV6hQT-uU",
        "outputId": "d42955f0-8243-46c5-f637-f6d9294b9941"
      },
      "source": [
        "# Apply label encoding to categorical features\n",
        "le = preprocessing.LabelEncoder()\n",
        "\n",
        "data_test['Destination'] = le.fit_transform(data_test['Destination']) \n",
        "data_test['Protocol'] = le.fit_transform(data_test['Protocol'])\n",
        "\n",
        "data_test.head()"
      ],
      "id": "LAJrV6hQT-uU",
      "execution_count": null,
      "outputs": [
        {
          "data": {
            "text/html": [
              "<div>\n",
              "<style scoped>\n",
              "    .dataframe tbody tr th:only-of-type {\n",
              "        vertical-align: middle;\n",
              "    }\n",
              "\n",
              "    .dataframe tbody tr th {\n",
              "        vertical-align: top;\n",
              "    }\n",
              "\n",
              "    .dataframe thead th {\n",
              "        text-align: right;\n",
              "    }\n",
              "</style>\n",
              "<table border=\"1\" class=\"dataframe\">\n",
              "  <thead>\n",
              "    <tr style=\"text-align: right;\">\n",
              "      <th></th>\n",
              "      <th>Time</th>\n",
              "      <th>Destination</th>\n",
              "      <th>Protocol</th>\n",
              "      <th>Length</th>\n",
              "    </tr>\n",
              "  </thead>\n",
              "  <tbody>\n",
              "    <tr>\n",
              "      <th>0</th>\n",
              "      <td>0.000000</td>\n",
              "      <td>13</td>\n",
              "      <td>3</td>\n",
              "      <td>243</td>\n",
              "    </tr>\n",
              "    <tr>\n",
              "      <th>1</th>\n",
              "      <td>0.034539</td>\n",
              "      <td>123</td>\n",
              "      <td>21</td>\n",
              "      <td>215</td>\n",
              "    </tr>\n",
              "    <tr>\n",
              "      <th>2</th>\n",
              "      <td>0.052717</td>\n",
              "      <td>117</td>\n",
              "      <td>8</td>\n",
              "      <td>94</td>\n",
              "    </tr>\n",
              "    <tr>\n",
              "      <th>3</th>\n",
              "      <td>0.054607</td>\n",
              "      <td>117</td>\n",
              "      <td>8</td>\n",
              "      <td>94</td>\n",
              "    </tr>\n",
              "    <tr>\n",
              "      <th>4</th>\n",
              "      <td>0.126421</td>\n",
              "      <td>220</td>\n",
              "      <td>2</td>\n",
              "      <td>60</td>\n",
              "    </tr>\n",
              "  </tbody>\n",
              "</table>\n",
              "</div>"
            ],
            "text/plain": [
              "       Time  Destination  Protocol  Length\n",
              "0  0.000000           13         3     243\n",
              "1  0.034539          123        21     215\n",
              "2  0.052717          117         8      94\n",
              "3  0.054607          117         8      94\n",
              "4  0.126421          220         2      60"
            ]
          },
          "execution_count": 26,
          "metadata": {},
          "output_type": "execute_result"
        }
      ]
    },
    {
      "cell_type": "markdown",
      "metadata": {
        "id": "gSE5v_1cT-uW"
      },
      "source": [
        "# Implement Machine Learning Algorithm "
      ],
      "id": "gSE5v_1cT-uW"
    },
    {
      "cell_type": "code",
      "metadata": {
        "scrolled": true,
        "id": "G6pYW0s3T-uX"
      },
      "source": [
        "# Isolation Forest\n",
        "ifc_test = IsolationForest(random_state=0)\n",
        "ifc_test.fit(data_test)\n",
        "pred_test = ifc.predict(data_test)"
      ],
      "id": "G6pYW0s3T-uX",
      "execution_count": null,
      "outputs": []
    },
    {
      "cell_type": "code",
      "metadata": {
        "id": "h_Fr9_IAT-uX",
        "outputId": "ebfabc5c-7c94-4953-f262-a85bebe7092f"
      },
      "source": [
        "print(pred_test)"
      ],
      "id": "h_Fr9_IAT-uX",
      "execution_count": null,
      "outputs": [
        {
          "name": "stdout",
          "output_type": "stream",
          "text": [
            "[-1 -1 -1 ... -1 -1 -1]\n"
          ]
        }
      ]
    },
    {
      "cell_type": "markdown",
      "metadata": {
        "id": "f6vC4D39T-uX"
      },
      "source": [
        "# Results"
      ],
      "id": "f6vC4D39T-uX"
    },
    {
      "cell_type": "code",
      "metadata": {
        "id": "8fdTK2AZT-uX",
        "outputId": "72f04575-7cf3-4fda-d3d8-dfd231e09e6f"
      },
      "source": [
        "# Show total number of anomalies and normal points\n",
        "outliers_test=0\n",
        "inliers_test=0\n",
        "for i in range(0,len(pred_test)):\n",
        "    if pred_test[i]==-1:\n",
        "        outliers_test+=1\n",
        "    else:\n",
        "        inliers_test+=1\n",
        "print('Number of Anomalies = %d'%outliers_test)\n",
        "print('Number of Inliers = %d'%inliers_test)"
      ],
      "id": "8fdTK2AZT-uX",
      "execution_count": null,
      "outputs": [
        {
          "name": "stdout",
          "output_type": "stream",
          "text": [
            "Number of Anomalies = 17293\n",
            "Number of Inliers = 127\n"
          ]
        }
      ]
    },
    {
      "cell_type": "code",
      "metadata": {
        "id": "3z3rNqm_T-uX",
        "outputId": "fa88da4f-2143-4873-8dad-3efc4583332c"
      },
      "source": [
        "# Plot heatmap of correlation between features\n",
        "import seaborn as sns\n",
        "sns.heatmap(data_test.corr())"
      ],
      "id": "3z3rNqm_T-uX",
      "execution_count": null,
      "outputs": [
        {
          "data": {
            "text/plain": [
              "<AxesSubplot:>"
            ]
          },
          "execution_count": 30,
          "metadata": {},
          "output_type": "execute_result"
        },
        {
          "data": {
            "image/png": "[encoded data removed]",
            "text/plain": [
              "<Figure size 720x360 with 2 Axes>"
            ]
          },
          "metadata": {
            "needs_background": "light"
          },
          "output_type": "display_data"
        }
      ]
    },
    {
      "cell_type": "markdown",
      "metadata": {
        "id": "uBA4hAkwT-uX"
      },
      "source": [
        "Some feature pairs are almost zero correlation like time and destination. So lets apply PCA (Principle Component Analysis) to reduce the dimenionality and plot 3D graph of anomalies."
      ],
      "id": "uBA4hAkwT-uX"
    },
    {
      "cell_type": "code",
      "metadata": {
        "id": "JzaBE4tmT-uY"
      },
      "source": [
        "pca = PCA(n_components=3)  # Reduce to 3 dimensions\n",
        "sc = StandardScaler()\n",
        "# Normalize the metrics\n",
        "N = sc.fit_transform(data_test)\n",
        "reduced = pca.fit_transform(N)"
      ],
      "id": "JzaBE4tmT-uY",
      "execution_count": null,
      "outputs": []
    },
    {
      "cell_type": "code",
      "metadata": {
        "id": "_B3IK894T-uY",
        "outputId": "e45cc833-285e-42b1-8668-b140bbc5e99f"
      },
      "source": [
        "from matplotlib import pyplot as plt\n",
        "import numpy as np\n",
        "plt.rcParams[\"figure.figsize\"] = [10.00, 5.0]\n",
        "plt.rcParams[\"figure.autolayout\"] = True\n",
        "fig = plt.figure()\n",
        "ax = fig.add_subplot(111, projection='3d')\n",
        "x = reduced[:, 0]\n",
        "y = reduced[:, 1]\n",
        "z = reduced[:, 2]\n",
        "c = pred_test\n",
        "img = ax.scatter(x, y, z, c=c, cmap='coolwarm')\n",
        "plt.show()"
      ],
      "id": "_B3IK894T-uY",
      "execution_count": null,
      "outputs": [
        {
          "data": {
            "image/png": "[encoded data removed]",
            "text/plain": [
              "<Figure size 720x360 with 1 Axes>"
            ]
          },
          "metadata": {
            "needs_background": "light"
          },
          "output_type": "display_data"
        }
      ]
    },
    {
      "cell_type": "code",
      "metadata": {
        "id": "49b6e90a"
      },
      "source": [],
      "id": "49b6e90a",
      "execution_count": null,
      "outputs": []
    },
    {
      "cell_type": "markdown",
      "metadata": {
        "id": "c196168b"
      },
      "source": [
        "So we can see that Isolation Forest has sucessfully detected the anomalies as shown by the red points in the above figure. Some are located on left side and some on lower side of projection."
      ],
      "id": "c196168b"
    },
    {
      "cell_type": "markdown",
      "metadata": {
        "id": "b6c755a3"
      },
      "source": [
        "# For Realtime packets monitoring\n"
      ],
      "id": "b6c755a3"
    },
    {
      "cell_type": "code",
      "metadata": {
        "id": "5d8baa5c"
      },
      "source": [
        "#pip install scapy"
      ],
      "id": "5d8baa5c",
      "execution_count": null,
      "outputs": []
    },
    {
      "cell_type": "code",
      "metadata": {
        "id": "81a60f78"
      },
      "source": [
        "from scapy.all import *\n",
        "for pkt in sniff(iface='eth1'):\n",
        "    if IP in pkt and pkt[IP].src.endswith('5'):\n",
        "        pkt[IP].dst = '1.1.1.1'\n",
        "        sendp(pkt, iface='eth2')"
      ],
      "id": "81a60f78",
      "execution_count": null,
      "outputs": []
    },
    {
      "cell_type": "code",
      "metadata": {
        "id": "6db91c8d"
      },
      "source": [],
      "id": "6db91c8d",
      "execution_count": null,
      "outputs": []
    }
  ]
}